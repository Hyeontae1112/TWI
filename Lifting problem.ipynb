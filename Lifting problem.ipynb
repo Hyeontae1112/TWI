{
 "cells": [
  {
   "cell_type": "code",
   "execution_count": 1,
   "id": "3af0c749",
   "metadata": {},
   "outputs": [],
   "source": [
    "%run Simplicial_Complex.py\n",
    "from tqdm import tqdm\n",
    "import timeit\n",
    "import json\n",
    "import galois\n",
    "from itertools import permutations, combinations_with_replacement\n",
    "def read_file(filename):\n",
    "    with open(filename, 'rb') as f:\n",
    "        data = f.readlines()\n",
    "    data = [x.strip() for x in data]\n",
    "    return data\n",
    "def text(result, path):\n",
    "    t = open(path, mode='a', encoding='utf-8')\n",
    "    t.write(str(result) + '\\n')\n",
    "    t.close()\n",
    "GF = galois.GF(2)"
   ]
  },
  {
   "cell_type": "code",
   "execution_count": 2,
   "id": "5a12125e",
   "metadata": {},
   "outputs": [],
   "source": [
    "def next_J(J1, J2): #J1: set of J's without IDCM, J2: set of J's with IDCM\n",
    "    new_J1=set() # from J1\n",
    "    new_J2=set() # the others\n",
    "    \n",
    "    for j2 in J2:\n",
    "        for i in range(len(j2)):\n",
    "            new_j2 = j2[:i] + (j2[i]+1,) + j2[i+1:]\n",
    "            new_J2.add(new_j2)\n",
    "    for j1 in J1:\n",
    "        for i in range(len(j1)):\n",
    "            new_j1 = j1[:i] + (j1[i]+1,) + j1[i+1:]\n",
    "            new_J1.add(new_j1)\n",
    "    new_J2=new_J2-new_J1\n",
    "    return new_J1, new_J2"
   ]
  },
  {
   "cell_type": "code",
   "execution_count": 3,
   "id": "13f6d36c",
   "metadata": {},
   "outputs": [],
   "source": [
    "def Algorithm_6_2(K):\n",
    "    IDCM_colorable_wedge_168=[]\n",
    "    J1_set, J2_set = set(), {(1,)*K.m}\n",
    "    while J2_set != set():\n",
    "        useless_J2 = set()\n",
    "        for J in J2_set:\n",
    "            if sum(J) > 15:\n",
    "                break\n",
    "            KJ = J_construction(K, J)\n",
    "            if is_IDCM(KJ) == 1:\n",
    "                text([K.cpx_bin, list(J)], 'IDCM_colorable_PLS\\IDCM_colorable_PLS_%d_%d' %(K.n, K.m))\n",
    "                if len(KJ.cpx_bin) >=168:\n",
    "                    IDCM_colorable_wedge_168.append(J)\n",
    "            else:\n",
    "                useless_J2.add(J)\n",
    "        else:\n",
    "            J1_set.update(useless_J2)\n",
    "            J2_set = J2_set - useless_J2\n",
    "            J1_set, J2_set = next_J(J1_set, J2_set)\n",
    "            continue\n",
    "        break\n",
    "    return IDCM_colorable_wedge_168"
   ]
  },
  {
   "cell_type": "code",
   "execution_count": 4,
   "id": "8c3a7192",
   "metadata": {},
   "outputs": [],
   "source": [
    "def up_to_symmetry(K, J, list_of_DCM):\n",
    "    S = [[] for i in J]\n",
    "    S[0] = list(range(J[0]))\n",
    "    for i in range(1, len(J)):\n",
    "        S[i] = list(range(S[i-1][-1]+1, S[i-1][-1]+1+J[i]))\n",
    "\n",
    "    symmetry = []\n",
    "    for i in range(len(list_of_DCM)):\n",
    "        M = list_of_DCM[i]\n",
    "        if type(M) == int:\n",
    "            continue\n",
    "        symmetry.append(i)\n",
    "        L = [permutations(s) for s in S]\n",
    "        P = product(*L)\n",
    "        for p in P:\n",
    "            pl = [elt for perm in p for elt in perm]\n",
    "            MC = M[:, pl].row_reduce()\n",
    "            for j in range(i+1, len(list_of_DCM)):\n",
    "                if (list_of_DCM[j] == MC).all():\n",
    "                    list_of_DCM[j] = 0\n",
    "                    break\n",
    "    return symmetry"
   ]
  },
  {
   "cell_type": "code",
   "execution_count": 5,
   "id": "09d49bf4",
   "metadata": {},
   "outputs": [],
   "source": [
    "def Self_lift(CF, DCM): # CF = np.array(K.cofacets) - 1\n",
    "    for i in CF:\n",
    "        if (int(round(np.linalg.det(DCM[i]))) != 1) and (int(round(np.linalg.det(DCM[i]))) != -1):\n",
    "            break\n",
    "    else:\n",
    "        return 1\n",
    "    return 0\n",
    "\n",
    "def Algorithm_6_3(CF, DCM): # CF = np.array(K.cofacets) - 1\n",
    "    m, p = DCM.shape\n",
    "    if Self_lift(CF, DCM) == 1:\n",
    "        return DCM\n",
    "    nonzeros = np.nonzero(DCM)\n",
    "    for i in range(1, len(nonzeros[0])):\n",
    "        C = combinations(range(len(nonzeros[0])), i)\n",
    "        for c in C:\n",
    "            L = DCM.copy()\n",
    "            L[nonzeros[0][[c]], nonzeros[1][[c]]] = -1\n",
    "            if Self_lift(CF, L) == 1:\n",
    "                return L\n",
    "    return 0"
   ]
  },
  {
   "cell_type": "code",
   "execution_count": 6,
   "id": "dad2bf11",
   "metadata": {},
   "outputs": [],
   "source": [
    "PL_spheres = [0, 0]\n",
    "for n in range(2, 12):\n",
    "    PL_spheres.append([Simplicial_Complex(json.loads(K)) for K in read_file('CSPLS\\CSPLS_%d_%d' % (n, n+4))])\n",
    "    \n",
    "IDCM_colorable_wedge_168 = [0]*len(PL_spheres)"
   ]
  },
  {
   "cell_type": "markdown",
   "id": "2a53bfa2",
   "metadata": {},
   "source": [
    "## n=2"
   ]
  },
  {
   "cell_type": "code",
   "execution_count": 7,
   "id": "25d491ee",
   "metadata": {},
   "outputs": [
    {
     "name": "stderr",
     "output_type": "stream",
     "text": [
      "100%|████████████████████████████████████████████████████████████████████████████████████| 1/1 [00:03<00:00,  3.64s/it]\n"
     ]
    }
   ],
   "source": [
    "n=2\n",
    "m=n+4\n",
    "P=PL_spheres[n]\n",
    "\n",
    "IDCM_colorable_wedge_168[n] = []\n",
    "for i in tqdm(range(len(P))):\n",
    "    result = Algorithm_6_2(P[i])\n",
    "    for j in range(len(result)):\n",
    "        result[j] = [i, result[j]]\n",
    "    IDCM_colorable_wedge_168[n].extend(result)\n",
    "\n",
    "for i in IDCM_colorable_wedge_168[n]:\n",
    "    print(i)"
   ]
  },
  {
   "cell_type": "markdown",
   "id": "793d6727",
   "metadata": {},
   "source": [
    "# n=3"
   ]
  },
  {
   "cell_type": "code",
   "execution_count": 8,
   "id": "4d8f74af",
   "metadata": {},
   "outputs": [
    {
     "name": "stderr",
     "output_type": "stream",
     "text": [
      "100%|████████████████████████████████████████████████████████████████████████████████████| 4/4 [02:41<00:00, 40.47s/it]\n"
     ]
    }
   ],
   "source": [
    "n=3\n",
    "m=n+4\n",
    "P=PL_spheres[n]\n",
    "\n",
    "IDCM_colorable_wedge_168[n] = []\n",
    "for i in tqdm(range(len(P))):\n",
    "    result = Algorithm_6_2(P[i])\n",
    "    for j in range(len(result)):\n",
    "        result[j] = [i, result[j]]\n",
    "    IDCM_colorable_wedge_168[n].extend(result)\n",
    "\n",
    "for i in IDCM_colorable_wedge_168[n]:\n",
    "    print(i)"
   ]
  },
  {
   "cell_type": "markdown",
   "id": "f785262e",
   "metadata": {},
   "source": [
    "# n=4"
   ]
  },
  {
   "cell_type": "code",
   "execution_count": 9,
   "id": "d4c77901",
   "metadata": {
    "scrolled": true
   },
   "outputs": [
    {
     "name": "stderr",
     "output_type": "stream",
     "text": [
      "100%|██████████████████████████████████████████████████████████████████████████████████| 20/20 [01:02<00:00,  3.10s/it]\n"
     ]
    }
   ],
   "source": [
    "n=4\n",
    "m=n+4\n",
    "P=PL_spheres[n]\n",
    "\n",
    "IDCM_colorable_wedge_168[n] = []\n",
    "for i in tqdm(range(len(P))):\n",
    "    result = Algorithm_6_2(P[i])\n",
    "    for j in range(len(result)):\n",
    "        result[j] = [i, result[j]]\n",
    "    IDCM_colorable_wedge_168[n].extend(result)\n",
    "\n",
    "for i in IDCM_colorable_wedge_168[n]:\n",
    "    print(i)"
   ]
  },
  {
   "cell_type": "markdown",
   "id": "102fb6d2",
   "metadata": {},
   "source": [
    "# n=5"
   ]
  },
  {
   "cell_type": "code",
   "execution_count": 10,
   "id": "4c397172",
   "metadata": {},
   "outputs": [
    {
     "name": "stderr",
     "output_type": "stream",
     "text": [
      "100%|████████████████████████████████████████████████████████████████████████████████| 142/142 [01:16<00:00,  1.84it/s]"
     ]
    },
    {
     "name": "stdout",
     "output_type": "stream",
     "text": [
      "[73, (2, 2, 2, 1, 2, 1, 2, 2, 1)]\n"
     ]
    },
    {
     "name": "stderr",
     "output_type": "stream",
     "text": [
      "\n"
     ]
    }
   ],
   "source": [
    "n=5\n",
    "m=n+4\n",
    "P=PL_spheres[n]\n",
    "\n",
    "IDCM_colorable_wedge_168[n] = []\n",
    "for i in tqdm(range(len(P))):\n",
    "    result = Algorithm_6_2(P[i])\n",
    "    for j in range(len(result)):\n",
    "        result[j] = [i, result[j]]\n",
    "    IDCM_colorable_wedge_168[n].extend(result)\n",
    "\n",
    "for i in IDCM_colorable_wedge_168[n]:\n",
    "    print(i)"
   ]
  },
  {
   "cell_type": "markdown",
   "id": "822f94bf",
   "metadata": {},
   "source": [
    "### 73, (2, 2, 2, 1, 2, 1, 2, 2, 1)"
   ]
  },
  {
   "cell_type": "code",
   "execution_count": 11,
   "id": "ff2c6b2a",
   "metadata": {},
   "outputs": [
    {
     "name": "stdout",
     "output_type": "stream",
     "text": [
      "32 [0]\n"
     ]
    }
   ],
   "source": [
    "K = PL_spheres[5][73]\n",
    "J = (2, 2, 2, 1, 2, 1, 2, 2, 1)\n",
    "KJ = J_construction(K, J)\n",
    "list_of_DCM = []\n",
    "for M in IDCM(J_construction(K,J)):\n",
    "    list_of_DCM.append(GF(M.T).row_reduce())\n",
    "print(len(list_of_DCM), up_to_symmetry(K, J, list_of_DCM))"
   ]
  },
  {
   "cell_type": "code",
   "execution_count": 12,
   "id": "9f37f454",
   "metadata": {},
   "outputs": [
    {
     "data": {
      "text/plain": [
       "array([[1, 0, 0, 0, 0, 1, 0, 1, 0, 1, 0, 1, 1, 1, 1],\n",
       "       [0, 1, 0, 0, 1, 0, 0, 0, 1, 1, 1, 0, 1, 1, 1],\n",
       "       [0, 0, 1, 0, 1, 0, 1, 1, 0, 1, 1, 1, 0, 1, 0],\n",
       "       [0, 0, 0, 1, 0, 1, 1, 0, 1, 1, 1, 1, 1, 0, 0]])"
      ]
     },
     "execution_count": 12,
     "metadata": {},
     "output_type": "execute_result"
    }
   ],
   "source": [
    "CF = np.array(KJ.cofacets) - 1\n",
    "Algorithm_6_3(CF, np.array(list_of_DCM[0], dtype = int).T).T"
   ]
  },
  {
   "cell_type": "markdown",
   "id": "060e096a",
   "metadata": {},
   "source": [
    "# n=6"
   ]
  },
  {
   "cell_type": "code",
   "execution_count": 13,
   "id": "efc85f53",
   "metadata": {},
   "outputs": [
    {
     "name": "stderr",
     "output_type": "stream",
     "text": [
      "100%|████████████████████████████████████████████████████████████████████████████████| 733/733 [02:46<00:00,  4.40it/s]\n"
     ]
    }
   ],
   "source": [
    "n=6\n",
    "m=n+4\n",
    "P=PL_spheres[n]\n",
    "\n",
    "IDCM_colorable_wedge_168[n] = []\n",
    "for i in tqdm(range(len(P))):\n",
    "    result = Algorithm_6_2(P[i])\n",
    "    for j in range(len(result)):\n",
    "        result[j] = [i, result[j]]\n",
    "    IDCM_colorable_wedge_168[n].extend(result)\n",
    "\n",
    "for i in IDCM_colorable_wedge_168[n]:\n",
    "    print(i)"
   ]
  },
  {
   "cell_type": "markdown",
   "id": "eb8ea96c",
   "metadata": {},
   "source": [
    "# n=7"
   ]
  },
  {
   "cell_type": "code",
   "execution_count": 14,
   "id": "45693af3",
   "metadata": {},
   "outputs": [
    {
     "name": "stderr",
     "output_type": "stream",
     "text": [
      "100%|██████████████████████████████████████████████████████████████████████████████| 1190/1190 [03:45<00:00,  5.27it/s]"
     ]
    },
    {
     "name": "stdout",
     "output_type": "stream",
     "text": [
      "[65, (1, 2, 2, 1, 1, 1, 2, 1, 1, 2, 1)]\n",
      "[65, (1, 1, 1, 2, 2, 2, 1, 1, 1, 1, 2)]\n",
      "[67, (1, 1, 1, 2, 2, 2, 1, 1, 1, 1, 2)]\n",
      "[80, (1, 1, 1, 2, 2, 2, 1, 1, 1, 1, 2)]\n",
      "[207, (1, 1, 1, 2, 2, 2, 1, 1, 1, 1, 2)]\n",
      "[355, (2, 2, 1, 1, 1, 1, 2, 2, 1, 1, 1)]\n",
      "[355, (1, 2, 2, 1, 1, 1, 2, 1, 1, 2, 1)]\n",
      "[355, (2, 1, 1, 1, 2, 1, 1, 2, 1, 1, 2)]\n",
      "[355, (1, 1, 1, 2, 2, 2, 1, 1, 1, 1, 2)]\n",
      "[355, (1, 1, 2, 2, 1, 2, 1, 1, 1, 2, 1)]\n"
     ]
    },
    {
     "name": "stderr",
     "output_type": "stream",
     "text": [
      "\n"
     ]
    }
   ],
   "source": [
    "n=7\n",
    "m=n+4\n",
    "P=PL_spheres[n]\n",
    "\n",
    "IDCM_colorable_wedge_168[n] = []\n",
    "for i in tqdm(range(len(P))):\n",
    "    result = Algorithm_6_2(P[i])\n",
    "    for j in range(len(result)):\n",
    "        result[j] = [i, result[j]]\n",
    "    IDCM_colorable_wedge_168[n].extend(result)\n",
    "\n",
    "for i in IDCM_colorable_wedge_168[n]:\n",
    "    print(i)"
   ]
  },
  {
   "cell_type": "markdown",
   "id": "726d5473",
   "metadata": {},
   "source": [
    "## Isomorphism"
   ]
  },
  {
   "cell_type": "code",
   "execution_count": 15,
   "id": "4eaacede",
   "metadata": {},
   "outputs": [
    {
     "data": {
      "text/plain": [
       "1"
      ]
     },
     "execution_count": 15,
     "metadata": {},
     "output_type": "execute_result"
    }
   ],
   "source": [
    "is_iso(J_construction(PL_spheres[7][65],IDCM_colorable_wedge_168[7][0][1]), J_construction(PL_spheres[7][65],IDCM_colorable_wedge_168[7][1][1]))"
   ]
  },
  {
   "cell_type": "code",
   "execution_count": 16,
   "id": "35a156c4",
   "metadata": {},
   "outputs": [
    {
     "data": {
      "text/plain": [
       "1"
      ]
     },
     "execution_count": 16,
     "metadata": {},
     "output_type": "execute_result"
    }
   ],
   "source": [
    "is_iso(J_construction(PL_spheres[7][355],IDCM_colorable_wedge_168[7][5][1]), J_construction(PL_spheres[7][355],IDCM_colorable_wedge_168[7][6][1]))"
   ]
  },
  {
   "cell_type": "code",
   "execution_count": 17,
   "id": "76d0cda8",
   "metadata": {},
   "outputs": [
    {
     "data": {
      "text/plain": [
       "1"
      ]
     },
     "execution_count": 17,
     "metadata": {},
     "output_type": "execute_result"
    }
   ],
   "source": [
    "is_iso(J_construction(PL_spheres[7][355],IDCM_colorable_wedge_168[7][5][1]), J_construction(PL_spheres[7][355],IDCM_colorable_wedge_168[7][7][1]))"
   ]
  },
  {
   "cell_type": "code",
   "execution_count": 18,
   "id": "e0b46819",
   "metadata": {},
   "outputs": [
    {
     "data": {
      "text/plain": [
       "1"
      ]
     },
     "execution_count": 18,
     "metadata": {},
     "output_type": "execute_result"
    }
   ],
   "source": [
    "is_iso(J_construction(PL_spheres[7][355],IDCM_colorable_wedge_168[7][5][1]), J_construction(PL_spheres[7][355],IDCM_colorable_wedge_168[7][8][1]))"
   ]
  },
  {
   "cell_type": "code",
   "execution_count": 19,
   "id": "ab23b259",
   "metadata": {
    "scrolled": true
   },
   "outputs": [
    {
     "data": {
      "text/plain": [
       "1"
      ]
     },
     "execution_count": 19,
     "metadata": {},
     "output_type": "execute_result"
    }
   ],
   "source": [
    "is_iso(J_construction(PL_spheres[7][355],IDCM_colorable_wedge_168[7][5][1]), J_construction(PL_spheres[7][355],IDCM_colorable_wedge_168[7][9][1]))"
   ]
  },
  {
   "cell_type": "markdown",
   "id": "2e705c83",
   "metadata": {},
   "source": [
    "### 65, (1, 2, 2, 1, 1, 1, 2, 1, 1, 2, 1)"
   ]
  },
  {
   "cell_type": "code",
   "execution_count": 20,
   "id": "7bb670c4",
   "metadata": {},
   "outputs": [
    {
     "name": "stdout",
     "output_type": "stream",
     "text": [
      "8 [0]\n"
     ]
    }
   ],
   "source": [
    "K = PL_spheres[7][65]\n",
    "J = (1, 2, 2, 1, 1, 1, 2, 1, 1, 2, 1)\n",
    "KJ = J_construction(K, J)\n",
    "list_of_DCM = []\n",
    "for M in IDCM(J_construction(K,J)):\n",
    "    list_of_DCM.append(GF(M.T).row_reduce())\n",
    "print(len(list_of_DCM), up_to_symmetry(K, J, list_of_DCM))"
   ]
  },
  {
   "cell_type": "code",
   "execution_count": 21,
   "id": "4e1225c6",
   "metadata": {},
   "outputs": [
    {
     "data": {
      "text/plain": [
       "array([[1, 0, 0, 1, 1, 1, 0, 0, 1, 1, 0, 1, 0, 0, 1],\n",
       "       [0, 1, 0, 1, 0, 1, 1, 0, 0, 1, 1, 1, 0, 1, 0],\n",
       "       [0, 0, 1, 0, 1, 1, 1, 0, 1, 0, 1, 1, 1, 0, 0],\n",
       "       [0, 0, 0, 0, 0, 0, 0, 1, 1, 1, 1, 1, 1, 1, 1]])"
      ]
     },
     "execution_count": 21,
     "metadata": {},
     "output_type": "execute_result"
    }
   ],
   "source": [
    "CF = np.array(KJ.cofacets) - 1\n",
    "Algorithm_6_3(CF, np.array(list_of_DCM[0], dtype = int).T).T"
   ]
  },
  {
   "cell_type": "markdown",
   "id": "978642a9",
   "metadata": {},
   "source": [
    "### 67, (1, 1, 1, 2, 2, 2, 1, 1, 1, 1, 2)"
   ]
  },
  {
   "cell_type": "code",
   "execution_count": 22,
   "id": "ec7c80e8",
   "metadata": {},
   "outputs": [
    {
     "name": "stdout",
     "output_type": "stream",
     "text": [
      "8 [0]\n"
     ]
    }
   ],
   "source": [
    "K = PL_spheres[7][67]\n",
    "J = (1, 1, 1, 2, 2, 2, 1, 1, 1, 1, 2)\n",
    "KJ = J_construction(K, J)\n",
    "list_of_DCM = []\n",
    "for M in IDCM(J_construction(K,J)):\n",
    "    list_of_DCM.append(GF(M.T).row_reduce())\n",
    "print(len(list_of_DCM), up_to_symmetry(K, J, list_of_DCM))"
   ]
  },
  {
   "cell_type": "code",
   "execution_count": 23,
   "id": "9de46bac",
   "metadata": {},
   "outputs": [
    {
     "data": {
      "text/plain": [
       "array([[ 1,  0,  1,  0,  0, -1,  1,  0,  0,  0,  1,  0,  1,  1,  1],\n",
       "       [ 0,  1,  1,  0,  0,  0,  0,  1, -1,  0,  1,  1,  0,  1,  1],\n",
       "       [ 0,  0,  0,  1,  0,  1,  0,  1,  0,  1,  1,  1,  1,  0,  1],\n",
       "       [ 0,  0,  0,  0,  1,  0,  1,  0,  1,  1,  1,  1,  1,  1,  0]])"
      ]
     },
     "execution_count": 23,
     "metadata": {},
     "output_type": "execute_result"
    }
   ],
   "source": [
    "CF = np.array(KJ.cofacets) - 1\n",
    "Algorithm_6_3(CF, np.array(list_of_DCM[0], dtype = int).T).T"
   ]
  },
  {
   "cell_type": "markdown",
   "id": "6cf95f5d",
   "metadata": {},
   "source": [
    "### 80, (1, 1, 1, 2, 2, 2, 1, 1, 1, 1, 2)"
   ]
  },
  {
   "cell_type": "code",
   "execution_count": 24,
   "id": "b361f669",
   "metadata": {},
   "outputs": [
    {
     "name": "stdout",
     "output_type": "stream",
     "text": [
      "8 [0]\n"
     ]
    }
   ],
   "source": [
    "K = PL_spheres[7][80]\n",
    "J = (1, 1, 1, 2, 2, 2, 1, 1, 1, 1, 2)\n",
    "KJ = J_construction(K, J)\n",
    "list_of_DCM = []\n",
    "for M in IDCM(J_construction(K,J)):\n",
    "    list_of_DCM.append(GF(M.T).row_reduce())\n",
    "print(len(list_of_DCM), up_to_symmetry(K, J, list_of_DCM))"
   ]
  },
  {
   "cell_type": "code",
   "execution_count": 25,
   "id": "150dcda9",
   "metadata": {},
   "outputs": [
    {
     "data": {
      "text/plain": [
       "array([[ 1,  0,  1,  0,  0, -1,  1,  0,  0,  0,  1,  0,  1,  1,  1],\n",
       "       [ 0,  1,  1,  0,  0,  0,  0,  1, -1,  0,  1,  1,  0,  1,  1],\n",
       "       [ 0,  0,  0,  1,  0,  1,  0,  1,  0,  1,  1,  1,  1,  0,  1],\n",
       "       [ 0,  0,  0,  0,  1,  0,  1,  0,  1,  1,  1,  1,  1,  1,  0]])"
      ]
     },
     "execution_count": 25,
     "metadata": {},
     "output_type": "execute_result"
    }
   ],
   "source": [
    "CF = np.array(KJ.cofacets) - 1\n",
    "Algorithm_6_3(CF, np.array(list_of_DCM[0], dtype = int).T).T"
   ]
  },
  {
   "cell_type": "markdown",
   "id": "8311857c",
   "metadata": {},
   "source": [
    "### 207, (1, 1, 1, 2, 2, 2, 1, 1, 1, 1, 2)"
   ]
  },
  {
   "cell_type": "code",
   "execution_count": 26,
   "id": "8f0f2218",
   "metadata": {},
   "outputs": [
    {
     "name": "stdout",
     "output_type": "stream",
     "text": [
      "8 [0]\n"
     ]
    }
   ],
   "source": [
    "K = PL_spheres[7][207]\n",
    "J = (1, 1, 1, 2, 2, 2, 1, 1, 1, 1, 2)\n",
    "KJ = J_construction(K, J)\n",
    "list_of_DCM = []\n",
    "for M in IDCM(J_construction(K,J)):\n",
    "    list_of_DCM.append(GF(M.T).row_reduce())\n",
    "print(len(list_of_DCM), up_to_symmetry(K, J, list_of_DCM))"
   ]
  },
  {
   "cell_type": "code",
   "execution_count": 27,
   "id": "b0e4d49d",
   "metadata": {},
   "outputs": [
    {
     "data": {
      "text/plain": [
       "array([[1, 0, 1, 0, 0, 1, 1, 0, 0, 0, 1, 0, 1, 1, 1],\n",
       "       [0, 1, 1, 0, 0, 0, 0, 1, 1, 0, 1, 1, 0, 1, 1],\n",
       "       [0, 0, 0, 1, 0, 1, 0, 1, 0, 1, 1, 1, 1, 0, 1],\n",
       "       [0, 0, 0, 0, 1, 0, 1, 0, 1, 1, 1, 1, 1, 1, 0]])"
      ]
     },
     "execution_count": 27,
     "metadata": {},
     "output_type": "execute_result"
    }
   ],
   "source": [
    "CF = np.array(KJ.cofacets) - 1\n",
    "Algorithm_6_3(CF, np.array(list_of_DCM[0], dtype = int).T).T"
   ]
  },
  {
   "cell_type": "markdown",
   "id": "caab38cd",
   "metadata": {},
   "source": [
    "### 355, (2, 2, 1, 1, 1, 1, 2, 2, 1, 1, 1)"
   ]
  },
  {
   "cell_type": "code",
   "execution_count": 28,
   "id": "5dfe5c3c",
   "metadata": {},
   "outputs": [
    {
     "name": "stdout",
     "output_type": "stream",
     "text": [
      "8 [0]\n"
     ]
    }
   ],
   "source": [
    "K = PL_spheres[7][355]\n",
    "J = (2, 2, 1, 1, 1, 1, 2, 2, 1, 1, 1)\n",
    "KJ = J_construction(K, J)\n",
    "list_of_DCM = []\n",
    "for M in IDCM(J_construction(K,J)):\n",
    "    list_of_DCM.append(GF(M.T).row_reduce())\n",
    "print(len(list_of_DCM), up_to_symmetry(K, J, list_of_DCM))"
   ]
  },
  {
   "cell_type": "code",
   "execution_count": 29,
   "id": "fc019a9f",
   "metadata": {},
   "outputs": [
    {
     "data": {
      "text/plain": [
       "array([[1, 0, 0, 1, 1, 1, 0, 1, 1, 0, 1, 0, 0, 1, 0],\n",
       "       [0, 1, 0, 1, 0, 1, 0, 0, 0, 1, 1, 0, 1, 1, 1],\n",
       "       [0, 0, 1, 1, 1, 0, 0, 1, 0, 0, 1, 1, 1, 0, 1],\n",
       "       [0, 0, 0, 0, 0, 0, 1, 1, 1, 1, 1, 1, 1, 1, 0]])"
      ]
     },
     "execution_count": 29,
     "metadata": {},
     "output_type": "execute_result"
    }
   ],
   "source": [
    "CF = np.array(KJ.cofacets) - 1\n",
    "Algorithm_6_3(CF, np.array(list_of_DCM[0], dtype = int).T).T"
   ]
  },
  {
   "cell_type": "markdown",
   "id": "2038ced1",
   "metadata": {},
   "source": [
    "# n=8"
   ]
  },
  {
   "cell_type": "code",
   "execution_count": 30,
   "id": "28487c1a",
   "metadata": {},
   "outputs": [
    {
     "name": "stderr",
     "output_type": "stream",
     "text": [
      "100%|████████████████████████████████████████████████████████████████████████████████| 776/776 [03:29<00:00,  3.71it/s]\n"
     ]
    }
   ],
   "source": [
    "n=8\n",
    "m=n+4\n",
    "P=PL_spheres[n]\n",
    "\n",
    "IDCM_colorable_wedge_168[n] = []\n",
    "for i in tqdm(range(len(P))):\n",
    "    result = Algorithm_6_2(P[i])\n",
    "    for j in range(len(result)):\n",
    "        result[j] = [i, result[j]]\n",
    "    IDCM_colorable_wedge_168[n].extend(result)\n",
    "\n",
    "for i in IDCM_colorable_wedge_168[n]:\n",
    "    print(i)"
   ]
  },
  {
   "cell_type": "markdown",
   "id": "6b6b44b3",
   "metadata": {},
   "source": [
    "# n=9"
   ]
  },
  {
   "cell_type": "code",
   "execution_count": 31,
   "id": "c0c983a6",
   "metadata": {},
   "outputs": [
    {
     "name": "stderr",
     "output_type": "stream",
     "text": [
      "100%|████████████████████████████████████████████████████████████████████████████████| 243/243 [01:26<00:00,  2.81it/s]\n"
     ]
    }
   ],
   "source": [
    "n=9\n",
    "m=n+4\n",
    "P=PL_spheres[n]\n",
    "\n",
    "IDCM_colorable_wedge_168[n] = []\n",
    "for i in tqdm(range(len(P))):\n",
    "    result = Algorithm_6_2(P[i])\n",
    "    for j in range(len(result)):\n",
    "        result[j] = [i, result[j]]\n",
    "    IDCM_colorable_wedge_168[n].extend(result)\n",
    "\n",
    "for i in IDCM_colorable_wedge_168[n]:\n",
    "    print(i)"
   ]
  },
  {
   "cell_type": "markdown",
   "id": "76e6f9e4",
   "metadata": {},
   "source": [
    "# n=10"
   ]
  },
  {
   "cell_type": "code",
   "execution_count": 32,
   "id": "50abaa30",
   "metadata": {},
   "outputs": [
    {
     "name": "stderr",
     "output_type": "stream",
     "text": [
      "100%|██████████████████████████████████████████████████████████████████████████████████| 39/39 [00:17<00:00,  2.27it/s]"
     ]
    },
    {
     "name": "stdout",
     "output_type": "stream",
     "text": [
      "[14, (1, 1, 1, 1, 1, 1, 1, 1, 1, 1, 1, 1, 1, 1)]\n",
      "[19, (1, 1, 1, 1, 1, 1, 1, 1, 1, 1, 1, 1, 1, 1)]\n",
      "[20, (1, 1, 1, 1, 1, 1, 1, 1, 1, 1, 1, 1, 1, 1)]\n",
      "[23, (1, 1, 1, 1, 1, 1, 1, 1, 1, 1, 1, 1, 1, 1)]\n",
      "[26, (1, 1, 1, 1, 1, 1, 1, 1, 1, 1, 1, 1, 1, 1)]\n",
      "[27, (1, 1, 1, 1, 1, 1, 1, 1, 1, 1, 1, 1, 1, 1)]\n",
      "[29, (1, 1, 1, 1, 1, 1, 1, 1, 1, 1, 1, 1, 1, 1)]\n",
      "[31, (1, 1, 1, 1, 1, 1, 1, 1, 1, 1, 1, 1, 1, 1)]\n",
      "[35, (1, 1, 1, 1, 1, 1, 1, 1, 1, 1, 1, 1, 1, 1)]\n",
      "[37, (1, 1, 1, 1, 1, 1, 1, 1, 1, 1, 1, 1, 1, 1)]\n",
      "[38, (1, 1, 1, 1, 1, 1, 1, 1, 1, 1, 1, 1, 1, 1)]\n"
     ]
    },
    {
     "name": "stderr",
     "output_type": "stream",
     "text": [
      "\n"
     ]
    }
   ],
   "source": [
    "n=10\n",
    "m=n+4\n",
    "P=PL_spheres[n]\n",
    "\n",
    "IDCM_colorable_wedge_168[n] = []\n",
    "for i in tqdm(range(len(P))):\n",
    "    result = Algorithm_6_2(P[i])\n",
    "    for j in range(len(result)):\n",
    "        result[j] = [i, result[j]]\n",
    "    IDCM_colorable_wedge_168[n].extend(result)\n",
    "\n",
    "for i in IDCM_colorable_wedge_168[n]:\n",
    "    print(i)"
   ]
  },
  {
   "cell_type": "code",
   "execution_count": 33,
   "id": "d6992cd4",
   "metadata": {},
   "outputs": [
    {
     "name": "stdout",
     "output_type": "stream",
     "text": [
      "number of IDCM of P[14]: 1\n",
      "[[ 1  1  0  1  1  0  1  0  1  1  1  0  0  0]\n",
      " [ 1  0  1  1  0 -1  1  0  0  1  0  1  0  0]\n",
      " [ 0  1  1  1  0  0  0  1  1  1  0  0  1  0]\n",
      " [ 0  0  0  0  1  1  1  1  1  1  0  0  0  1]]\n",
      "number of IDCM of P[19]: 1\n",
      "[[-1  1  0  1  1  0  1  0  1  1  1  0  0  0]\n",
      " [ 1  0  1  1  0  1  1  0  0  1  0  1  0  0]\n",
      " [ 0  1  1  1  0  0  0 -1  1  1  0  0  1  0]\n",
      " [ 0  0  0  0  1  1  1  1  1  1  0  0  0  1]]\n",
      "number of IDCM of P[20]: 1\n",
      "[[ 1  1  0  1  1  0  1  0  1  1  1  0  0  0]\n",
      " [ 1  0  1  1  0  1  1  0  0  1  0  1  0  0]\n",
      " [ 0  1  1  1  0  0  0 -1  1  1  0  0  1  0]\n",
      " [ 0  0  0  0  1  1  1  1  1  1  0  0  0  1]]\n",
      "number of IDCM of P[23]: 1\n",
      "[[ 1  1  0  1  1  0  1  0  1  1  1  0  0  0]\n",
      " [ 1  0  1  1  0 -1  1  0  0  1  0  1  0  0]\n",
      " [ 0  1  1  1  0  0  0  1  1  1  0  0  1  0]\n",
      " [ 0  0  0  0  1  1  1  1  1  1  0  0  0  1]]\n",
      "number of IDCM of P[26]: 1\n",
      "[[ 1  1  0  1  1  0  1  0  1  1  1  0  0  0]\n",
      " [ 1  0  1  1  0 -1  1  0  0  1  0  1  0  0]\n",
      " [ 0  1  1  1  0  0  0  1  1  1  0  0  1  0]\n",
      " [ 0  0  0  0  1  1  1  1  1  1  0  0  0  1]]\n",
      "number of IDCM of P[27]: 1\n",
      "[[ 1  1  0  1  1  0  1  0  1  1  1  0  0  0]\n",
      " [ 1  0  1  1  0 -1  1  0  0  1  0  1  0  0]\n",
      " [ 0  1  1  1  0  0  0  1  1  1  0  0  1  0]\n",
      " [ 0  0  0  0  1  1  1  1  1  1  0  0  0  1]]\n",
      "number of IDCM of P[29]: 1\n",
      "[[ 1  1  0  1  1  0  1  0  1  1  1  0  0  0]\n",
      " [ 1  0  1  1  0  1  1  0  0  1  0  1  0  0]\n",
      " [ 0  1  1  1  0  0  0 -1  1  1  0  0  1  0]\n",
      " [ 0  0  0  0  1  1  1  1  1  1  0  0  0  1]]\n",
      "number of IDCM of P[31]: 1\n",
      "[[1 1 0 1 1 0 1 0 1 1 1 0 0 0]\n",
      " [1 0 1 1 0 1 1 0 0 1 0 1 0 0]\n",
      " [0 1 1 1 0 0 0 1 1 1 0 0 1 0]\n",
      " [0 0 0 0 1 1 1 1 1 1 0 0 0 1]]\n",
      "number of IDCM of P[35]: 1\n",
      "[[ 1  1  0  1  1  0  1  0  1  1  1  0  0  0]\n",
      " [ 1  0 -1  1  0  1  1  0  0  1  0  1  0  0]\n",
      " [ 0  1  1  1  0  0  0  1  1  1  0  0  1  0]\n",
      " [ 0  0  0  0  1  1  1  1  1  1  0  0  0  1]]\n",
      "number of IDCM of P[37]: 1\n",
      "[[-1  1  0  1  1  0  1  0  1  1  1  0  0  0]\n",
      " [ 1  0  1  1  0  1  1  0  0  1  0  1  0  0]\n",
      " [ 0  1  1  1  0  0  0 -1  1  1  0  0  1  0]\n",
      " [ 0  0  0  0  1  1  1  1  1  1  0  0  0  1]]\n",
      "number of IDCM of P[38]: 1\n",
      "[[1 1 0 1 1 0 1 0 1 1 1 0 0 0]\n",
      " [1 0 1 1 0 1 1 0 0 1 0 1 0 0]\n",
      " [0 1 1 1 0 0 0 1 1 1 0 0 1 0]\n",
      " [0 0 0 0 1 1 1 1 1 1 0 0 0 1]]\n"
     ]
    }
   ],
   "source": [
    "for [i, J] in IDCM_colorable_wedge_168[n]:\n",
    "    CF = np.array(P[i].cofacets) - 1\n",
    "    list_of_IDCM = IDCM(P[i])\n",
    "    print('number of IDCM of P[%d]:'%i, len(list_of_IDCM))\n",
    "    for M in list_of_IDCM:\n",
    "        print(Algorithm_6_3(CF, M).T)"
   ]
  },
  {
   "cell_type": "markdown",
   "id": "4431c924",
   "metadata": {},
   "source": [
    "# n=11"
   ]
  },
  {
   "cell_type": "code",
   "execution_count": 34,
   "id": "a1e40ec9",
   "metadata": {},
   "outputs": [
    {
     "name": "stderr",
     "output_type": "stream",
     "text": [
      "100%|████████████████████████████████████████████████████████████████████████████████████| 4/4 [00:00<00:00, 50.11it/s]"
     ]
    },
    {
     "name": "stdout",
     "output_type": "stream",
     "text": [
      "[0, (1, 1, 1, 1, 1, 1, 1, 1, 1, 1, 1, 1, 1, 1, 1)]\n",
      "[1, (1, 1, 1, 1, 1, 1, 1, 1, 1, 1, 1, 1, 1, 1, 1)]\n",
      "[2, (1, 1, 1, 1, 1, 1, 1, 1, 1, 1, 1, 1, 1, 1, 1)]\n",
      "[3, (1, 1, 1, 1, 1, 1, 1, 1, 1, 1, 1, 1, 1, 1, 1)]\n"
     ]
    },
    {
     "name": "stderr",
     "output_type": "stream",
     "text": [
      "\n"
     ]
    }
   ],
   "source": [
    "n=11\n",
    "m=n+4\n",
    "P=PL_spheres[n]\n",
    "\n",
    "IDCM_colorable_wedge_168[n] = []\n",
    "for i in tqdm(range(len(P))):\n",
    "    result = Algorithm_6_2(P[i])\n",
    "    for j in range(len(result)):\n",
    "        result[j] = [i, result[j]]\n",
    "    IDCM_colorable_wedge_168[n].extend(result)\n",
    "\n",
    "for i in IDCM_colorable_wedge_168[n]:\n",
    "    print(i)"
   ]
  },
  {
   "cell_type": "code",
   "execution_count": 35,
   "id": "d33c4323",
   "metadata": {},
   "outputs": [
    {
     "name": "stdout",
     "output_type": "stream",
     "text": [
      "number of IDCM of P[0]: 1\n",
      "[[0 1 1 0 1 1 0 1 0 1 1 1 0 0 0]\n",
      " [1 1 0 1 1 0 1 1 0 0 1 0 1 0 0]\n",
      " [1 0 1 1 1 0 0 0 1 1 1 0 0 1 0]\n",
      " [1 0 0 0 0 1 1 1 1 1 1 0 0 0 1]]\n",
      "number of IDCM of P[1]: 1\n",
      "[[0 1 1 0 1 1 0 1 0 1 1 1 0 0 0]\n",
      " [1 1 0 1 1 0 1 1 0 0 1 0 1 0 0]\n",
      " [1 0 1 1 1 0 0 0 1 1 1 0 0 1 0]\n",
      " [1 0 0 0 0 1 1 1 1 1 1 0 0 0 1]]\n",
      "number of IDCM of P[2]: 1\n",
      "[[0 1 1 0 1 1 0 1 0 1 1 1 0 0 0]\n",
      " [1 1 0 1 1 0 1 1 0 0 1 0 1 0 0]\n",
      " [1 0 1 1 1 0 0 0 1 1 1 0 0 1 0]\n",
      " [1 0 0 0 0 1 1 1 1 1 1 0 0 0 1]]\n",
      "number of IDCM of P[3]: 2\n",
      "[[1 1 1 0 1 0 1 1 0 0 1 1 0 0 0]\n",
      " [1 1 0 1 1 1 1 0 0 1 0 0 1 0 0]\n",
      " [0 1 1 1 0 0 1 0 1 1 1 0 0 1 0]\n",
      " [0 1 0 0 1 1 0 1 1 1 1 0 0 0 1]]\n",
      "[[0 1 1 0 1 1 0 1 0 1 1 1 0 0 0]\n",
      " [1 1 0 1 1 0 1 1 0 0 1 0 1 0 0]\n",
      " [1 0 1 1 1 0 0 0 1 1 1 0 0 1 0]\n",
      " [1 0 0 0 0 1 1 1 1 1 1 0 0 0 1]]\n"
     ]
    }
   ],
   "source": [
    "for [i, J] in IDCM_colorable_wedge_168[n]:\n",
    "    CF = np.array(P[i].cofacets) - 1\n",
    "    list_of_IDCM = IDCM(P[i])\n",
    "    print('number of IDCM of P[%d]:'%i, len(list_of_IDCM))\n",
    "    for M in list_of_IDCM:\n",
    "        print(Algorithm_6_3(CF, M).T)"
   ]
  },
  {
   "cell_type": "code",
   "execution_count": null,
   "id": "da8a1fd9",
   "metadata": {},
   "outputs": [],
   "source": []
  }
 ],
 "metadata": {
  "kernelspec": {
   "display_name": "Python 3 (ipykernel)",
   "language": "python",
   "name": "python3"
  },
  "language_info": {
   "codemirror_mode": {
    "name": "ipython",
    "version": 3
   },
   "file_extension": ".py",
   "mimetype": "text/x-python",
   "name": "python",
   "nbconvert_exporter": "python",
   "pygments_lexer": "ipython3",
   "version": "3.11.5"
  }
 },
 "nbformat": 4,
 "nbformat_minor": 5
}
